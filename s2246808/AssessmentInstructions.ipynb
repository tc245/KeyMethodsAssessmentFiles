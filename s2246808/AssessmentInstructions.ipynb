{
 "cells": [
  {
   "cell_type": "markdown",
   "metadata": {},
   "source": [
    "# <p align=center>ASSESSMENT 1</p>\n",
    "## <p align=center>KEY METHODS IN HUMAN GEOGRAPHY</p>\n",
    "## <p align=center>Human impacts on fish ecology</p>\n",
    "## <p align=center>DEADLINE:  Monday 28<sup>th</sup> October (Week 7), 12 Noon</p>\n"
   ]
  },
  {
   "cell_type": "markdown",
   "metadata": {},
   "source": [
    "### Initial instructions\n",
    "\n",
    "#### Submission\n",
    "The hand-in for the assessment will be a Word document only (i.e. there is no need to submit a jupyter notebook). \n",
    "\n",
    "### Outputs \n",
    "There are 4 tasks to be completed; tasks 1-3 three are numerical in nature and task 4 is a short essay style response (of **max 500 words**). When you carry out the tests and generate results in tasks 1-3, explain ***very*** briefly how these results are obtained. This will not count against any maximum word counts given, but please be brief. You can include the R code used to do the calculation as well if you wish. When you present results be ***selective*** in terms of what output and results you include. Only include what you need given the task and the evidence you need to provide. R will produce a lot of output but part of the skill of being a data analyst is figuring out what you need to select from this output. Please ***do not*** simply copy and paste numerical output from your noteable notebook. Instead, please create your own tables in your word document and include all the information you think is necessary. The exception is graphical output which of course you can copy and paste from the noteable notebook. Note that if you wish to include more detailed output you can do so in an accompanying appendix.\n",
    "\n",
    "#### External references\n",
    "The emphasis of this exercise is the application and interpretation of statistical methods (rather than a traditional essay) so there is less emphasis on external literature and references in the written component. ***However***, keep in mind that interpretation of statistical results is always more rigorous if based on at least some prior knowledge of existing literature. A brief book chapter on thermal effects on fish ecology (which is old, but still relevant) has been provided on learn which may be helpful. You may well want to introduce additional literature to support your interpretation and discussion of the results in task 4. Please cite these in the usual way. Citations and the bibliography will ***not*** count against the word limit in task 4.  \n",
    "\n",
    "#### Calculations\n",
    "As mentioned above the focus of this assessment is the application and interpretation of statistical methods. In many ways this is more important than learning a particular piece of software. Thus, although we have been learning to use R within noteable during the course, you are ***not*** required to complete the assessment using R in noteable. If you are more comfortable with another piece of software and are confident you can complete the tasks using this software, by all means do this. \n",
    "\n",
    "**An important note! While you WILL be penalised, you will not necessarily fail if you get the incorrect numerical answers.** You are being assessed primarily on the basis of being able to ***understand and interpret*** results from statistical analyses. If you can demonstrate this but with some errors in the numerical answers you will still have a good chance of a good mark. However, you will ***not*** get a first class mark with errors in the numerical answers. \n",
    "\n",
    "#### Data\n",
    "Data for the task is available on learn (see the instructions on learn for accessing this and extracting your own data into noteable). It is important to note that each of you have your ***own unique datasets*** meaning that none of your numerical answers will be the same. Please keep this in mind and ***do not*** compare your answers to others in the class! When you download the data, ***please ensure that your UUN matches the UUN in the filenames of the datafiles***.\n"
   ]
  },
  {
   "cell_type": "markdown",
   "metadata": {},
   "source": [
    "### The Task\n",
    "#### Setting\n",
    "You are an analyst working in the Fish and Wildlife Service in the US. You have been tasked with determining whether human impacts on fish ecology in the northwestern United States. In particular, there is a power plant in operation close to a freshwater lake which is inhabited by a species of trout. The plant draws water from the lake to use in its cooling processes and then drains it back into the lake, which warms the water. Care is taken by the plant to not add any harmful chemicals to the lake water, and to allow the heated river water to cool before being released back into the lake. However, regardless of this, the temperature of the lake is still consistently measured to be an average of 1&deg;C warmer than nearby lakes in the region in the upper 10 meters **(14&deg;C rather than 13&deg;C)** which also contain the same species of trout. Water temperature is known to affect fish ecology and there is concern that, despite the best efforts of the power plant, the population of trout is being affected by the temperature increase. Water temperature shifts can lead to a change in both fish growth rate and metabolism, upsetting the fish population and potentially the local ecosystem. However, the specific effects can be different for different species, different individuals, and different conditions.\n",
    "\n",
    "The overarching question to be addressed is:\n",
    "- **Is there evidence that power plant related warming of the lake water is having an impact on Trout in the lake and does this evidence point to a need for the government to regulate the power plant activities?** \n",
    "\n"
   ]
  },
  {
   "cell_type": "markdown",
   "metadata": {},
   "source": [
    "#### Data\n",
    "To help tackle this task, you have been provided with some data for analysis. The files are all in “csv” format and details about the contents of each file is provided below.\n",
    "- **[uun]_fish_temp_study.csv**: This file contains data for a sample of 10 trout caught in different lakes across the United States and southern Canada west of the Rocky Mountains. Each row records information for a single trout. The first column contains the temperature of the water where the trout was caught (in Celsius) and the second column contains the measured length of the trout (in inches). \n",
    "- **[uun]_fish_lengths.csv**: This file contains data from an experiment carried out by rangers in the Fish and Wildlife Service in which fish length data was collected from both the power plant warmed lake and another nearby lake that is not affected by power plant related heating. The first column contains measured lengths (in inches) of a sample of 10 mature trout caught in the nearby lake and the second column contains measured lengths from a different sample of 10 mature trout caught in the power plant-warmed lake. All trout are the same species.\n",
    "- **[uun]_fish_resp.csv**: The Fish and Wildlife Service also conducted a slightly different, more involved experiment where a sample of ten Trout were caught from a nearby non-power plant-warmed lake, and their metabolic rates (milligrams of dissolved oxygen consumed per day per gram of fish) were measured. They were then tagged, kept in a netted enclosure in the power-plant warmed lake for several months, and then caught again and had their metabolic rates measured. The data contains 2 columns of ten rows (one row per sampled Trout). The first column gives the initial metabolic rate for a given fish. The 2nd column gives the final metabolic rate ***for the same fish***.\n",
    "\n",
    "Each file contains variable names already included but you can of course change these if you wish. \n"
   ]
  },
  {
   "cell_type": "markdown",
   "metadata": {},
   "source": [
    "### Assessment part 1 – Statistical analysis\n",
    "<b>Task 1:</b> Using the **“fish_temp_study.csv”** data, find the Pearson correlation coefficient (r) between fish length and lake temperature. You may also produce a scatterplot if you wish.\n",
    "\n",
    "<b>Task 2:</b> Conduct a linear regression analysis with fish length as your y variable and lake temperature as the x variable and report the slope coefficient and its associated statistical significance. \n",
    "\n",
    "<b>Task 3:</b> For both the **“fish_lengths.csv”** and the **“fish_resp.csv”** data files, apply a T-test to determine whether there is a significant effect of the power plant-warmed water on either length or metabolic rate. For each dataset, use either an independent-samples or paired-samples test based on whichever is most applicable and at the same time will give the most valuable information. \n",
    "\n",
    "Where relevant in each task you must:\n",
    "1.\tState the Null Hypothesis, H0 (in the context of the question at hand). \n",
    "2.\tDecide and justify (in one sentence) whether a one-tailed (one-sided) or two-tailed (two-sided) test is appropriate. \n",
    "3.\tState whether you will adopt a Neyman-Pearson of Fisher philosophy for significance. If you choose the former, use a 0.05 threshold for significance and say whether you reject H0. If you choose the latter, express the level of evidence supporting H0.\n"
   ]
  },
  {
   "cell_type": "markdown",
   "metadata": {},
   "source": [
    "### Assessment part 2 - Interpretation and critique\n",
    "\n",
    "The key decision that needs to be made is whether the government needs to enforce stricter environmental sanctions on the power plant and your job is to assess the evidence. However, to do this you also need to consider the impact of these sanctions on the power plant itself as well as the environmental impacts. The managers of the power plant have suggested that to decrease the thermal impact of the power plant on the lake, electricity production would need to be interrupted periodically in order to allow the water to spend more time in cooling ponds before being returned to the lake. A number of commercial entities, including several textile mills purchase electric power from this plant and may be affected by the resulting energy scarcity. It is important to bear this in mind when considering environmental sanctions. To that end you have been provided with evidence from an analysis conducted by the Department of Energy. This used data from a sample of 10 textile mills from across the US that experienced a change in electricity scarcity from reduced energy output from their local power plant. The analysis you have been provided with shows the relationship between this change in scarcity and corresponding changes in the textile mill productivity for the mills in this sample. The results from this analysis are presented in table 1 below.\n",
    "\n",
    "***Table 1: The effect of increasing electricity scarcity on changes in textile mill productivity from a sample of 10 textile mills from across the US***\n",
    "\n",
    "| Estimates                                                                 | Coefficients | Standard error | P-value  |\n",
    "|---------------------------------------------------------------------------|--------------|----------------|----------|\n",
    "| Intercept\t                                                                | -0.96801     | 0.50633\t    | 3e-09 ***|\n",
    "| Change in electricity scarcity (higher number indicates greater scarcity) | -0.03403     | 0.19587        | 0.8664   |\n",
    "\n",
    "\n",
    "Note that higher values for electricity scarcity indicate a greater level of scarcity. Textile mill productivity is expressed as a change in productivity. Thus, a productivity value of 0.76 means productivity is at 76% of pre-scarcity increase levels (in other words it shows that productivity decreased by 24% after the corresponding change in the scarcity index). A further important piece of information is that managers of the local power plant in question have suggested that in order to reduce the lake warming effect of their activities by 1°C, they would need to take action that would result in increases in the electricity scarcity index of 0.05.\n",
    "\n",
    "<b>Task 4:</b> You have been asked to write a brief assessment of the evidence (both the analysis of the fish data together with the evidence provided by the Energy Department) and its usefulness in helping to decide whether stricter environmental sanctions should be enforced on the power plant. In your answer, ensure you include a critique and some discussion of the limitations of the various statistical tests and how this affects how useful the evidence is for the question at hand. **Please ensure your answer is no more than 500 words (not including citations and references).**  \n",
    "\n",
    "\n",
    "#### <b><p align=center>End of assessment</b></p>\n",
    "\n",
    "\n",
    "\n"
   ]
  }
 ],
 "metadata": {
  "language_info": {
   "name": "python"
  }
 },
 "nbformat": 4,
 "nbformat_minor": 2
}
